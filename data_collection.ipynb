{
 "cells": [
  {
   "cell_type": "code",
   "execution_count": 36,
   "metadata": {},
   "outputs": [],
   "source": [
    "import mediapipe as mp\n",
    "import cv2\n",
    "import matplotlib.pyplot as plt\n",
    "import numpy as np\n",
    "import pandas as pd\n",
    "import string\n",
    "from preprocessing import preprocess_keypoints"
   ]
  },
  {
   "cell_type": "markdown",
   "metadata": {},
   "source": [
    "We start with some defenitions"
   ]
  },
  {
   "cell_type": "code",
   "execution_count": 37,
   "metadata": {},
   "outputs": [],
   "source": [
    "mp_drawing = mp.solutions.drawing_utils\n",
    "mp_drawing_styles = mp.solutions.drawing_styles\n",
    "mp_hands = mp.solutions.hands\n",
    "\n",
    "# Constants for updating tracking aswell as when to save hand position\n",
    "update_time = 5\n",
    "save_time = 5"
   ]
  },
  {
   "cell_type": "markdown",
   "metadata": {},
   "source": [
    "## Data collection\n",
    "We use the cv2 library to collect camera fotage and then use mediapipe to get the landmarks on one hand.\n",
    "\n",
    "To record data press the letter you are currently showing. Data can only be collected if the software is tracking your hand."
   ]
  },
  {
   "cell_type": "code",
   "execution_count": 38,
   "metadata": {},
   "outputs": [],
   "source": [
    "# Keep track of data\n",
    "keypoint_data = []\n",
    "\n",
    "# For webcam input:\n",
    "cap = cv2.VideoCapture(1)\n",
    "with mp_hands.Hands(\n",
    "    max_num_hands=1,\n",
    "    min_detection_confidence=0.5,\n",
    "    min_tracking_confidence=0.5) as hands:\n",
    "\n",
    "  i = 0\n",
    "\n",
    "  # Open camera\n",
    "  while cap.isOpened():\n",
    "    success, image = cap.read()\n",
    "    if not success:\n",
    "      continue\n",
    "\n",
    "    # Convert BGR image to RGB and flip the image for selfie camera\n",
    "    image = cv2.cvtColor(cv2.flip(image, 1), cv2.COLOR_BGR2RGB)\n",
    "    image.flags.writeable = False\n",
    "\n",
    "    # Run mediapipe hands and save the results!\n",
    "    results = hands.process(image)\n",
    "\n",
    "    # Convert back to correct colors\n",
    "    image = cv2.cvtColor(image, cv2.COLOR_RGB2BGR)\n",
    "\n",
    "    # Save key press\n",
    "    key = cv2.waitKey(update_time)\n",
    "    i = i + update_time\n",
    "\n",
    "    if results.multi_hand_landmarks:\n",
    "\n",
    "        # Pick the first hand\n",
    "        hand_landmarks = results.multi_hand_landmarks[0]\n",
    "\n",
    "        # if save time has passed, save the keypoints based on keypress\n",
    "        if not key == -1 and i >= save_time:\n",
    "          i = 0\n",
    "\n",
    "          # Is keypress in the alphabet?\n",
    "          if chr(key) in list(string.ascii_lowercase):\n",
    "\n",
    "            # If so save landmarks as an array with values [0,1] (except z axis)\n",
    "            res = preprocess_keypoints(hand_landmarks)\n",
    "            res.insert(0, chr(key))\n",
    "            keypoint_data.append(res)\n",
    "  \n",
    "        # Draw on the image\n",
    "        mp_drawing.draw_landmarks(\n",
    "            image,\n",
    "            hand_landmarks,\n",
    "            mp_hands.HAND_CONNECTIONS,\n",
    "            mp_drawing_styles.get_default_hand_landmarks_style(),\n",
    "            mp_drawing_styles.get_default_hand_connections_style())\n",
    "    \n",
    "    # exit if space is pressed\n",
    "    if key == ord(' '):\n",
    "      break\n",
    "            \n",
    "    # Display the image!\n",
    "    cv2.imshow('MediaPipe Hands', image)\n",
    "    \n",
    "cap.release()"
   ]
  },
  {
   "cell_type": "markdown",
   "metadata": {},
   "source": [
    "## Saving the data\n",
    "After we have collected all the data we need, we can save it into a csv file with pandas!"
   ]
  },
  {
   "cell_type": "code",
   "execution_count": 39,
   "metadata": {},
   "outputs": [],
   "source": [
    "# Save the data to a csv file\n",
    "df = pd.DataFrame(np.array(keypoint_data))\n",
    "#df.to_csv('data.csv', index = False)\n",
    "df.to_csv('data.csv', mode='a', header=False)"
   ]
  }
 ],
 "metadata": {
  "interpreter": {
   "hash": "05670d60c7d382de5afdc06056b1506cbf442734a10c1850b42e7fcab5ceb50e"
  },
  "kernelspec": {
   "display_name": "Python 3.8.6 64-bit",
   "name": "python3"
  },
  "language_info": {
   "codemirror_mode": {
    "name": "ipython",
    "version": 3
   },
   "file_extension": ".py",
   "mimetype": "text/x-python",
   "name": "python",
   "nbconvert_exporter": "python",
   "pygments_lexer": "ipython3",
   "version": "3.8.6"
  },
  "orig_nbformat": 4
 },
 "nbformat": 4,
 "nbformat_minor": 2
}
