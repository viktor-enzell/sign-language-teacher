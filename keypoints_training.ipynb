{
 "cells": [
  {
   "cell_type": "code",
   "execution_count": 1,
   "source": [
    "import mediapipe as mp\r\n",
    "import cv2\r\n",
    "import matplotlib.pyplot as plt\r\n",
    "import numpy as np\r\n",
    "import pandas as pd\r\n",
    "import string"
   ],
   "outputs": [],
   "metadata": {}
  },
  {
   "cell_type": "code",
   "execution_count": 2,
   "source": [
    "mp_drawing = mp.solutions.drawing_utils\r\n",
    "mp_drawing_styles = mp.solutions.drawing_styles\r\n",
    "mp_hands = mp.solutions.hands\r\n",
    "\r\n",
    "update_time = 5\r\n",
    "save_time = 20"
   ],
   "outputs": [],
   "metadata": {}
  },
  {
   "cell_type": "code",
   "execution_count": 3,
   "source": [
    "def flatten_landmarks(hand_landmarks):\r\n",
    "    keypoints = []\r\n",
    "    for data_point in hand_landmarks.landmark:\r\n",
    "        keypoints.append(data_point.x)\r\n",
    "        keypoints.append(data_point.y)\r\n",
    "        keypoints.append(data_point.z)\r\n",
    "    return keypoints\r\n",
    "    \r\n",
    "def transform_array(array):\r\n",
    "    return list(np.array(array) * (1 / max(array)))"
   ],
   "outputs": [],
   "metadata": {}
  },
  {
   "cell_type": "code",
   "execution_count": 6,
   "source": [
    "# Keep track of data\r\n",
    "keypoint_data = []\r\n",
    "\r\n",
    "# For webcam input:\r\n",
    "cap = cv2.VideoCapture(1)\r\n",
    "with mp_hands.Hands(\r\n",
    "    max_num_hands=1,\r\n",
    "    min_detection_confidence=0.5,\r\n",
    "    min_tracking_confidence=0.5) as hands:\r\n",
    "\r\n",
    "  i = 0\r\n",
    "\r\n",
    "  # Open camera\r\n",
    "  while cap.isOpened():\r\n",
    "    success, image = cap.read()\r\n",
    "    if not success:\r\n",
    "      continue\r\n",
    "\r\n",
    "    # Convert BGR image to RGB and flip the image for selfie camera\r\n",
    "    image = cv2.cvtColor(cv2.flip(image, 1), cv2.COLOR_BGR2RGB)\r\n",
    "    image.flags.writeable = False\r\n",
    "\r\n",
    "    # Run mediapipe hands and save the results!\r\n",
    "    results = hands.process(image)\r\n",
    "\r\n",
    "    # Convert back to correct colors\r\n",
    "    image = cv2.cvtColor(image, cv2.COLOR_RGB2BGR)\r\n",
    "\r\n",
    "    # Save key press\r\n",
    "    key = cv2.waitKey(update_time)\r\n",
    "    i = i + update_time\r\n",
    "\r\n",
    "    if results.multi_hand_landmarks:\r\n",
    "\r\n",
    "        # Pick the first hand\r\n",
    "        hand_landmarks = results.multi_hand_landmarks[0]\r\n",
    "\r\n",
    "        # if save time has passed, save the keypoints based on keypress\r\n",
    "        if not key == -1 and i >= save_time:\r\n",
    "          i = 0\r\n",
    "\r\n",
    "          # Is keypress in the alphabet?\r\n",
    "          if chr(key) in list(string.ascii_lowercase):\r\n",
    "\r\n",
    "            # If so save landmarks as an array with values [0,1] (except z axis)\r\n",
    "            flat_keypoints = flatten_landmarks(hand_landmarks)\r\n",
    "            flat_keypoints = transform_array(flat_keypoints)\r\n",
    "            flat_keypoints.insert(0, chr(key))\r\n",
    "            keypoint_data.append(flat_keypoints)\r\n",
    "  \r\n",
    "        # Draw on the image\r\n",
    "        mp_drawing.draw_landmarks(\r\n",
    "            image,\r\n",
    "            hand_landmarks,\r\n",
    "            mp_hands.HAND_CONNECTIONS,\r\n",
    "            mp_drawing_styles.get_default_hand_landmarks_style(),\r\n",
    "            mp_drawing_styles.get_default_hand_connections_style())\r\n",
    "    \r\n",
    "    # exit if space is pressed\r\n",
    "    if key == ord(' '):\r\n",
    "      break\r\n",
    "            \r\n",
    "    # Display the image!\r\n",
    "    cv2.imshow('MediaPipe Hands', image)\r\n",
    "    \r\n",
    "cap.release()"
   ],
   "outputs": [],
   "metadata": {}
  },
  {
   "cell_type": "code",
   "execution_count": 8,
   "source": [
    "# Save the data to a csv file\r\n",
    "df = pd.DataFrame(np.array(keypoint_data))\r\n",
    "df.to_csv('data.csv', index = False)"
   ],
   "outputs": [],
   "metadata": {}
  }
 ],
 "metadata": {
  "orig_nbformat": 4,
  "language_info": {
   "name": "python",
   "version": "3.8.6",
   "mimetype": "text/x-python",
   "codemirror_mode": {
    "name": "ipython",
    "version": 3
   },
   "pygments_lexer": "ipython3",
   "nbconvert_exporter": "python",
   "file_extension": ".py"
  },
  "kernelspec": {
   "name": "python3",
   "display_name": "Python 3.8.6 64-bit"
  },
  "interpreter": {
   "hash": "05670d60c7d382de5afdc06056b1506cbf442734a10c1850b42e7fcab5ceb50e"
  }
 },
 "nbformat": 4,
 "nbformat_minor": 2
}