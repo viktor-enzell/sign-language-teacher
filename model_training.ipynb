{
 "cells": [
  {
   "cell_type": "code",
   "execution_count": 14,
   "metadata": {},
   "outputs": [],
   "source": [
    "from sklearn.model_selection import train_test_split\n",
    "from sklearn.ensemble import RandomForestClassifier\n",
    "\n",
    "import pandas as pd\n",
    "import pickle"
   ]
  },
  {
   "cell_type": "markdown",
   "metadata": {},
   "source": [
    "## Import the data\n",
    "We start by import the data created in the data_collection notebook. This can then be split for training, validation and testing"
   ]
  },
  {
   "cell_type": "code",
   "execution_count": 15,
   "metadata": {},
   "outputs": [],
   "source": [
    "# Import csv\n",
    "df = pd.read_csv('data.csv')\n",
    "\n",
    "# Split data into X and y data\n",
    "X = df.drop(columns = ['0']).copy()\n",
    "y = df['0']\n",
    "\n",
    "# Split data into testing, training and validation data\n",
    "X_train, X_rem, y_train, y_rem = train_test_split(X, y, train_size=0.8)\n",
    "X_val, X_test, y_val, y_test = train_test_split(X_rem,y_rem, test_size=0.5)"
   ]
  },
  {
   "cell_type": "markdown",
   "metadata": {},
   "source": [
    "## Fit model \n",
    "We use a random forest for multiclass classification of the signs."
   ]
  },
  {
   "cell_type": "code",
   "execution_count": 16,
   "metadata": {},
   "outputs": [
    {
     "name": "stdout",
     "output_type": "stream",
     "text": [
      "Random forest's test score: 1.0\n"
     ]
    }
   ],
   "source": [
    "rf = RandomForestClassifier(class_weight = 'balanced_subsample')\n",
    "rf.fit(X_train, y_train)\n",
    "print(\"Random forest's test score:\", rf.score(X_test, y_test))"
   ]
  },
  {
   "cell_type": "markdown",
   "metadata": {},
   "source": [
    "## "
   ]
  },
  {
   "cell_type": "code",
   "execution_count": 17,
   "metadata": {},
   "outputs": [],
   "source": [
    "pickle.dump(rf, open('random_forest.sav', 'wb'))"
   ]
  },
  {
   "cell_type": "markdown",
   "metadata": {},
   "source": [
    "## Fit the model to our data\n",
    "10 epochs were run since it was tested to have a good balance of trainng and avoiding overfitting"
   ]
  }
 ],
 "metadata": {
  "interpreter": {
   "hash": "05670d60c7d382de5afdc06056b1506cbf442734a10c1850b42e7fcab5ceb50e"
  },
  "kernelspec": {
   "display_name": "Python 3.8.6 64-bit",
   "name": "python3"
  },
  "language_info": {
   "codemirror_mode": {
    "name": "ipython",
    "version": 3
   },
   "file_extension": ".py",
   "mimetype": "text/x-python",
   "name": "python",
   "nbconvert_exporter": "python",
   "pygments_lexer": "ipython3",
   "version": "3.8.6"
  },
  "orig_nbformat": 4
 },
 "nbformat": 4,
 "nbformat_minor": 2
}
