{
 "cells": [
  {
   "cell_type": "code",
   "execution_count": 6,
   "source": [
    "from keras.models import Sequential\r\n",
    "from keras.layers import Dense\r\n",
    "from keras.layers import Dropout\r\n",
    "from keras.layers import InputLayer\r\n",
    "\r\n",
    "from sklearn.model_selection import train_test_split\r\n",
    "from sklearn.preprocessing import LabelEncoder\r\n",
    "from sklearn.preprocessing import OneHotEncoder\r\n",
    "\r\n",
    "import pandas as pd"
   ],
   "outputs": [],
   "metadata": {}
  },
  {
   "cell_type": "markdown",
   "source": [
    "## Import the data"
   ],
   "metadata": {}
  },
  {
   "cell_type": "code",
   "execution_count": 26,
   "source": [
    "df = pd.read_csv('data.csv')\r\n",
    "\r\n",
    "X = df.drop(columns = ['0']).copy()\r\n",
    "y = df['0']\r\n",
    "\r\n",
    "integer_encoded = LabelEncoder().fit_transform(y)\r\n",
    "integer_encoded = integer_encoded.reshape(len(integer_encoded), 1)\r\n",
    "y_onehot = OneHotEncoder(sparse=False).fit_transform(integer_encoded)\r\n",
    "\r\n",
    "\r\n",
    "# Split data into testing, training and validation data\r\n",
    "X_train, X_rem, y_train, y_rem = train_test_split(X, y_onehot, train_size=0.8)\r\n",
    "X_val, X_test, y_val, y_test = train_test_split(X_rem,y_rem, test_size=0.5)\r\n",
    "\r\n",
    "classes = ['a', 'b', 'c', 'd', 'e', 'f', 'g']\r\n",
    "num_classes = len(classes)\r\n",
    "num_features = len(X.columns)"
   ],
   "outputs": [],
   "metadata": {}
  },
  {
   "cell_type": "markdown",
   "source": [
    "## Define and compile the model"
   ],
   "metadata": {}
  },
  {
   "cell_type": "code",
   "execution_count": 43,
   "source": [
    "model = Sequential()\r\n",
    "model.add(InputLayer(input_shape=(num_features,)))\r\n",
    "model.add(Dense(20, activation= 'relu' ))\r\n",
    "model.add(Dropout(0.2))\r\n",
    "model.add(Dense(10, activation= 'relu' ))\r\n",
    "model.add(Dropout(0.2))\r\n",
    "model.add(Dense(10, activation= 'relu' ))\r\n",
    "model.add(Dense(num_classes, activation= 'softmax' ))\r\n",
    "model.compile(loss= 'categorical_crossentropy' , optimizer= 'adam' , metrics=[ 'accuracy'])"
   ],
   "outputs": [],
   "metadata": {}
  },
  {
   "cell_type": "markdown",
   "source": [
    "## Fit the model to our data"
   ],
   "metadata": {}
  },
  {
   "cell_type": "code",
   "execution_count": 45,
   "source": [
    "history = model.fit(X_train, y_train,\r\n",
    "          validation_data=(X_val, y_val),\r\n",
    "          epochs=10,\r\n",
    "          batch_size= 10)\r\n",
    "score = model.evaluate(X_test, y_test, batch_size=10)\r\n",
    "print(\"Test accuracy: \", score[1])"
   ],
   "outputs": [
    {
     "output_type": "stream",
     "name": "stdout",
     "text": [
      "Epoch 1/10\n",
      "1227/1227 [==============================] - 3s 3ms/step - loss: 0.4969 - accuracy: 0.8123 - val_loss: 0.2501 - val_accuracy: 0.9432\n",
      "Epoch 2/10\n",
      "1227/1227 [==============================] - 3s 2ms/step - loss: 0.4232 - accuracy: 0.8458 - val_loss: 0.2059 - val_accuracy: 0.9517\n",
      "Epoch 3/10\n",
      "1227/1227 [==============================] - 2s 2ms/step - loss: 0.3948 - accuracy: 0.8599 - val_loss: 0.1744 - val_accuracy: 0.9609\n",
      "Epoch 4/10\n",
      "1227/1227 [==============================] - 3s 2ms/step - loss: 0.3577 - accuracy: 0.8787 - val_loss: 0.1484 - val_accuracy: 0.9641\n",
      "Epoch 5/10\n",
      "1227/1227 [==============================] - 3s 2ms/step - loss: 0.3280 - accuracy: 0.8853 - val_loss: 0.1107 - val_accuracy: 0.9693\n",
      "Epoch 6/10\n",
      "1227/1227 [==============================] - 2s 2ms/step - loss: 0.2957 - accuracy: 0.9000 - val_loss: 0.0913 - val_accuracy: 0.9791\n",
      "Epoch 7/10\n",
      "1227/1227 [==============================] - 3s 2ms/step - loss: 0.2886 - accuracy: 0.9000 - val_loss: 0.0881 - val_accuracy: 0.9752\n",
      "Epoch 8/10\n",
      "1227/1227 [==============================] - 7s 5ms/step - loss: 0.2675 - accuracy: 0.9084 - val_loss: 0.1026 - val_accuracy: 0.9759\n",
      "Epoch 9/10\n",
      "1227/1227 [==============================] - 4s 3ms/step - loss: 0.2560 - accuracy: 0.9114 - val_loss: 0.1005 - val_accuracy: 0.9680\n",
      "Epoch 10/10\n",
      "1227/1227 [==============================] - 2s 1ms/step - loss: 0.2356 - accuracy: 0.9169 - val_loss: 0.0730 - val_accuracy: 0.9902\n",
      "154/154 [==============================] - 0s 964us/step - loss: 0.0717 - accuracy: 0.9915\n",
      "Test accuracy:  0.9915198683738708\n"
     ]
    }
   ],
   "metadata": {}
  },
  {
   "cell_type": "code",
   "execution_count": 40,
   "source": [
    "plt.plot(history.history['accuracy'], label='Training accuracy')\r\n",
    "plt.plot(history.history['val_accuracy'], label='Validation accuracy')\r\n",
    "plt.title('Training/validation accuracies')\r\n",
    "plt.ylabel('Accuracy')\r\n",
    "plt.xlabel('Epoch')\r\n",
    "plt.tight_layout()\r\n",
    "plt.legend(loc=\"right\")"
   ],
   "outputs": [
    {
     "output_type": "execute_result",
     "data": {
      "text/plain": [
       "<matplotlib.legend.Legend at 0x26e8a5b15e0>"
      ]
     },
     "metadata": {},
     "execution_count": 40
    },
    {
     "output_type": "display_data",
     "data": {
      "image/png": "[encoded data removed]",
      "text/plain": [
       "<Figure size 432x288 with 1 Axes>"
      ]
     },
     "metadata": {
      "needs_background": "light"
     }
    }
   ],
   "metadata": {}
  },
  {
   "cell_type": "code",
   "execution_count": 46,
   "source": [
    "model.save(\"model\")"
   ],
   "outputs": [
    {
     "output_type": "stream",
     "name": "stdout",
     "text": [
      "WARNING:tensorflow:From C:\\Users\\adamv\\AppData\\Local\\Programs\\Python\\Python38\\lib\\site-packages\\tensorflow\\python\\training\\tracking\\tracking.py:111: Model.state_updates (from tensorflow.python.keras.engine.training) is deprecated and will be removed in a future version.\n",
      "Instructions for updating:\n",
      "This property should not be used in TensorFlow 2.0, as updates are applied automatically.\n",
      "WARNING:tensorflow:From C:\\Users\\adamv\\AppData\\Local\\Programs\\Python\\Python38\\lib\\site-packages\\tensorflow\\python\\training\\tracking\\tracking.py:111: Layer.updates (from tensorflow.python.keras.engine.base_layer) is deprecated and will be removed in a future version.\n",
      "Instructions for updating:\n",
      "This property should not be used in TensorFlow 2.0, as updates are applied automatically.\n",
      "INFO:tensorflow:Assets written to: model\\assets\n"
     ]
    }
   ],
   "metadata": {}
  }
 ],
 "metadata": {
  "orig_nbformat": 4,
  "language_info": {
   "name": "python",
   "version": "3.8.6",
   "mimetype": "text/x-python",
   "codemirror_mode": {
    "name": "ipython",
    "version": 3
   },
   "pygments_lexer": "ipython3",
   "nbconvert_exporter": "python",
   "file_extension": ".py"
  },
  "kernelspec": {
   "name": "python3",
   "display_name": "Python 3.8.6 64-bit"
  },
  "interpreter": {
   "hash": "05670d60c7d382de5afdc06056b1506cbf442734a10c1850b42e7fcab5ceb50e"
  }
 },
 "nbformat": 4,
 "nbformat_minor": 2
}